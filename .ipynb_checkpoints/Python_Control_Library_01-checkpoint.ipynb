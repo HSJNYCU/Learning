{
 "cells": [
  {
   "cell_type": "markdown",
   "id": "e547e7f0",
   "metadata": {},
   "source": [
    "# [Second order system](https://python-control.readthedocs.io/en/0.9.0/secord-matlab.html)\n"
   ]
  },
  {
   "cell_type": "code",
   "execution_count": 2,
   "id": "b185fee8",
   "metadata": {},
   "outputs": [],
   "source": [
    "import os\n",
    "import matplotlib.pyplot as plt   # MATLAB plotting functions\n",
    "from control.matlab import *      # MATLAB-like functions\n",
    "\n",
    "import numpy as np                # added by HS for checking eignevalue"
   ]
  },
  {
   "cell_type": "code",
   "execution_count": 8,
   "id": "df711512",
   "metadata": {},
   "outputs": [
    {
     "name": "stdout",
     "output_type": "stream",
     "text": [
      "A = [[ 0.    1.  ]\n",
      " [-0.16 -0.24]]\n",
      "\n",
      "B = [[0.   ]\n",
      " [0.004]]\n",
      "\n",
      "C = [[1. 0.]]\n",
      "\n",
      "D = [[0.]]\n",
      "\n"
     ]
    }
   ],
   "source": [
    "# Parameters defining the system\n",
    "m = 250.0           # system mass\n",
    "k = 40.0            # spring constant\n",
    "b = 60.0            # damping constant\n",
    "\n",
    "# System matrices\n",
    "A = [[0, 1.], [-k/m, -b/m]]\n",
    "B = [[0], [1/m]]\n",
    "C = [[1., 0]]\n",
    "sys = ss(A, B, C, 0)\n",
    "print(sys)"
   ]
  },
  {
   "cell_type": "code",
   "execution_count": 4,
   "id": "ece270d1",
   "metadata": {},
   "outputs": [
    {
     "data": {
      "image/png": "[encoded data removed]",
      "text/plain": [
       "<Figure size 432x288 with 1 Axes>"
      ]
     },
     "metadata": {
      "needs_background": "light"
     },
     "output_type": "display_data"
    }
   ],
   "source": [
    "# Step response for the system\n",
    "plt.figure(1)\n",
    "yout, T = step(sys)\n",
    "plt.plot(T.T, yout.T)\n",
    "plt.show(block=False)"
   ]
  },
  {
   "cell_type": "code",
   "execution_count": null,
   "id": "c7f7f998",
   "metadata": {},
   "outputs": [],
   "source": []
  },
  {
   "cell_type": "code",
   "execution_count": null,
   "id": "7efeae1f",
   "metadata": {},
   "outputs": [],
   "source": []
  }
 ],
 "metadata": {
  "kernelspec": {
   "display_name": "Python 3",
   "language": "python",
   "name": "python3"
  },
  "language_info": {
   "codemirror_mode": {
    "name": "ipython",
    "version": 3
   },
   "file_extension": ".py",
   "mimetype": "text/x-python",
   "name": "python",
   "nbconvert_exporter": "python",
   "pygments_lexer": "ipython3",
   "version": "3.7.3"
  }
 },
 "nbformat": 4,
 "nbformat_minor": 5
}
